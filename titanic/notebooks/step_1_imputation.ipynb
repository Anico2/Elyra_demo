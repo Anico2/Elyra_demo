{
 "cells": [
  {
   "cell_type": "code",
   "execution_count": 1,
   "id": "9e497274",
   "metadata": {
    "execution": {
     "iopub.execute_input": "2022-06-15T08:52:48.389457Z",
     "iopub.status.busy": "2022-06-15T08:52:48.388426Z",
     "iopub.status.idle": "2022-06-15T08:52:50.125483Z",
     "shell.execute_reply": "2022-06-15T08:52:50.124482Z"
    },
    "papermill": {
     "duration": 1.752784,
     "end_time": "2022-06-15T08:52:50.126482",
     "exception": false,
     "start_time": "2022-06-15T08:52:48.373698",
     "status": "completed"
    },
    "tags": []
   },
   "outputs": [],
   "source": [
    "import numpy as np\n",
    "import pandas as pd\n",
    "import os\n",
    "import time\n",
    "import sys\n",
    "\n",
    "#bla bla\n",
    "\n",
    "import sklearn\n",
    "import psutil\n",
    "import pickle\n",
    "\n",
    "from sklearn.impute import SimpleImputer\n",
    "from sklearn.compose import ColumnTransformer\n",
    "from sklearn.preprocessing import StandardScaler, OneHotEncoder\n",
    "from copy import deepcopy as dc"
   ]
  },
  {
   "cell_type": "markdown",
   "id": "cfb82bf8",
   "metadata": {
    "papermill": {
     "duration": 0.015959,
     "end_time": "2022-06-15T08:52:50.153913",
     "exception": false,
     "start_time": "2022-06-15T08:52:50.137954",
     "status": "completed"
    },
    "tags": []
   },
   "source": [
    "### Import Dati"
   ]
  },
  {
   "cell_type": "code",
   "execution_count": 2,
   "id": "600e08ba",
   "metadata": {
    "execution": {
     "iopub.execute_input": "2022-06-15T08:52:50.177847Z",
     "iopub.status.busy": "2022-06-15T08:52:50.177847Z",
     "iopub.status.idle": "2022-06-15T08:52:50.218037Z",
     "shell.execute_reply": "2022-06-15T08:52:50.218037Z"
    },
    "papermill": {
     "duration": 0.055149,
     "end_time": "2022-06-15T08:52:50.220032",
     "exception": false,
     "start_time": "2022-06-15T08:52:50.164883",
     "status": "completed"
    },
    "tags": []
   },
   "outputs": [
    {
     "data": {
      "text/html": [
       "<div>\n",
       "<style scoped>\n",
       "    .dataframe tbody tr th:only-of-type {\n",
       "        vertical-align: middle;\n",
       "    }\n",
       "\n",
       "    .dataframe tbody tr th {\n",
       "        vertical-align: top;\n",
       "    }\n",
       "\n",
       "    .dataframe thead th {\n",
       "        text-align: right;\n",
       "    }\n",
       "</style>\n",
       "<table border=\"1\" class=\"dataframe\">\n",
       "  <thead>\n",
       "    <tr style=\"text-align: right;\">\n",
       "      <th></th>\n",
       "      <th>age</th>\n",
       "      <th>fare</th>\n",
       "      <th>embarked</th>\n",
       "      <th>sex</th>\n",
       "      <th>pclass</th>\n",
       "      <th>body</th>\n",
       "      <th>cabin</th>\n",
       "    </tr>\n",
       "  </thead>\n",
       "  <tbody>\n",
       "    <tr>\n",
       "      <th>0</th>\n",
       "      <td>29.0000</td>\n",
       "      <td>211.3375</td>\n",
       "      <td>S</td>\n",
       "      <td>female</td>\n",
       "      <td>1.0</td>\n",
       "      <td>NaN</td>\n",
       "      <td>B5</td>\n",
       "    </tr>\n",
       "    <tr>\n",
       "      <th>1</th>\n",
       "      <td>0.9167</td>\n",
       "      <td>151.5500</td>\n",
       "      <td>S</td>\n",
       "      <td>male</td>\n",
       "      <td>1.0</td>\n",
       "      <td>NaN</td>\n",
       "      <td>C22 C26</td>\n",
       "    </tr>\n",
       "    <tr>\n",
       "      <th>2</th>\n",
       "      <td>2.0000</td>\n",
       "      <td>151.5500</td>\n",
       "      <td>S</td>\n",
       "      <td>female</td>\n",
       "      <td>1.0</td>\n",
       "      <td>NaN</td>\n",
       "      <td>C22 C26</td>\n",
       "    </tr>\n",
       "  </tbody>\n",
       "</table>\n",
       "</div>"
      ],
      "text/plain": [
       "       age      fare embarked     sex pclass  body    cabin\n",
       "0  29.0000  211.3375        S  female    1.0   NaN       B5\n",
       "1   0.9167  151.5500        S    male    1.0   NaN  C22 C26\n",
       "2   2.0000  151.5500        S  female    1.0   NaN  C22 C26"
      ]
     },
     "execution_count": 2,
     "metadata": {},
     "output_type": "execute_result"
    }
   ],
   "source": [
    "with open('..\\\\dati\\\\step_0_dati_out.pickle', 'rb') as f:\n",
    "    df = pickle.load(file=f)\n",
    "y = df[\"survived\"]\n",
    "df = df.drop(columns = \"survived\")\n",
    "df.head(3)"
   ]
  },
  {
   "cell_type": "code",
   "execution_count": 3,
   "id": "170276e4-fbe7-4fcb-96b7-6f8e90dec45e",
   "metadata": {
    "execution": {
     "iopub.execute_input": "2022-06-15T08:52:50.243268Z",
     "iopub.status.busy": "2022-06-15T08:52:50.243268Z",
     "iopub.status.idle": "2022-06-15T08:52:50.248868Z",
     "shell.execute_reply": "2022-06-15T08:52:50.248868Z"
    },
    "papermill": {
     "duration": 0.020355,
     "end_time": "2022-06-15T08:52:50.250897",
     "exception": false,
     "start_time": "2022-06-15T08:52:50.230542",
     "status": "completed"
    },
    "tags": []
   },
   "outputs": [],
   "source": [
    "step_1 = {}"
   ]
  },
  {
   "cell_type": "markdown",
   "id": "84bdad49",
   "metadata": {
    "papermill": {
     "duration": 0.011967,
     "end_time": "2022-06-15T08:52:50.272804",
     "exception": false,
     "start_time": "2022-06-15T08:52:50.260837",
     "status": "completed"
    },
    "tags": []
   },
   "source": [
    "### Imputation NA"
   ]
  },
  {
   "cell_type": "code",
   "execution_count": 4,
   "id": "b41442c5",
   "metadata": {
    "execution": {
     "iopub.execute_input": "2022-06-15T08:52:50.295377Z",
     "iopub.status.busy": "2022-06-15T08:52:50.295377Z",
     "iopub.status.idle": "2022-06-15T08:52:50.312653Z",
     "shell.execute_reply": "2022-06-15T08:52:50.311779Z"
    },
    "papermill": {
     "duration": 0.029961,
     "end_time": "2022-06-15T08:52:50.313654",
     "exception": false,
     "start_time": "2022-06-15T08:52:50.283693",
     "status": "completed"
    },
    "tags": []
   },
   "outputs": [
    {
     "name": "stdout",
     "output_type": "stream",
     "text": [
      "body dropped\n",
      "cabin dropped\n"
     ]
    }
   ],
   "source": [
    "for col in df.columns:\n",
    "    if df[col].isna().mean()>0.65:\n",
    "        df.drop(col,axis=1, inplace = True)\n",
    "        print(f\"{col} dropped\")"
   ]
  },
  {
   "cell_type": "code",
   "execution_count": 5,
   "id": "5526c30d",
   "metadata": {
    "execution": {
     "iopub.execute_input": "2022-06-15T08:52:50.337679Z",
     "iopub.status.busy": "2022-06-15T08:52:50.336684Z",
     "iopub.status.idle": "2022-06-15T08:52:50.359551Z",
     "shell.execute_reply": "2022-06-15T08:52:50.358386Z"
    },
    "papermill": {
     "duration": 0.035647,
     "end_time": "2022-06-15T08:52:50.360584",
     "exception": false,
     "start_time": "2022-06-15T08:52:50.324937",
     "status": "completed"
    },
    "tags": []
   },
   "outputs": [
    {
     "data": {
      "text/plain": [
       "(1309, 5)"
      ]
     },
     "execution_count": 5,
     "metadata": {},
     "output_type": "execute_result"
    }
   ],
   "source": [
    "numeric_features = [\"age\", \"fare\"]\n",
    "numeric_imputation = ColumnTransformer(\n",
    "    transformers=[(\"numeric imp\",SimpleImputer(strategy=\"median\"), numeric_features)])\n",
    "\n",
    "fit_num_NA = numeric_imputation.fit(df)\n",
    "fitted_num_NA = dc(fit_num_NA)\n",
    "step_1[\"step_1_imputation_num\"] = {\"obj\":fitted_num_NA,\n",
    "                                          \"fitted_on\":numeric_features}\n",
    "df.loc[::,numeric_features] = fit_num_NA.transform(df)\n",
    "df.shape"
   ]
  },
  {
   "cell_type": "code",
   "execution_count": 6,
   "id": "03c0b7cb",
   "metadata": {
    "execution": {
     "iopub.execute_input": "2022-06-15T08:52:50.383987Z",
     "iopub.status.busy": "2022-06-15T08:52:50.383987Z",
     "iopub.status.idle": "2022-06-15T08:52:50.405506Z",
     "shell.execute_reply": "2022-06-15T08:52:50.405506Z"
    },
    "papermill": {
     "duration": 0.035513,
     "end_time": "2022-06-15T08:52:50.407503",
     "exception": false,
     "start_time": "2022-06-15T08:52:50.371990",
     "status": "completed"
    },
    "tags": []
   },
   "outputs": [
    {
     "data": {
      "text/plain": [
       "(1309, 5)"
      ]
     },
     "execution_count": 6,
     "metadata": {},
     "output_type": "execute_result"
    }
   ],
   "source": [
    "categorical_features = [\"embarked\", \"sex\", \"pclass\"]\n",
    "categorical_imputation = ColumnTransformer(\n",
    "    transformers=[(\"cat imp\",SimpleImputer(strategy=\"most_frequent\"), categorical_features)])\n",
    "fit_cat_NA = categorical_imputation.fit(df)\n",
    "fitted_cat_NA = dc(fit_cat_NA)\n",
    "step_1[\"step_1_imputation_cat\"] = {\"obj\":fitted_cat_NA,\n",
    "                                          \"fitted_on\":categorical_features}\n",
    "df.loc[::,categorical_features] = fit_cat_NA.transform(df)\n",
    "df.shape"
   ]
  },
  {
   "cell_type": "code",
   "execution_count": 7,
   "id": "2817d099",
   "metadata": {
    "execution": {
     "iopub.execute_input": "2022-06-15T08:52:50.433372Z",
     "iopub.status.busy": "2022-06-15T08:52:50.433372Z",
     "iopub.status.idle": "2022-06-15T08:52:50.453653Z",
     "shell.execute_reply": "2022-06-15T08:52:50.452650Z"
    },
    "papermill": {
     "duration": 0.039233,
     "end_time": "2022-06-15T08:52:50.457641",
     "exception": false,
     "start_time": "2022-06-15T08:52:50.418408",
     "status": "completed"
    },
    "tags": []
   },
   "outputs": [],
   "source": [
    "assert df.isnull().sum().sum() <=0"
   ]
  },
  {
   "cell_type": "code",
   "execution_count": 8,
   "id": "b2685905-46c9-48da-8bff-2c45834436e4",
   "metadata": {
    "execution": {
     "iopub.execute_input": "2022-06-15T08:52:50.489557Z",
     "iopub.status.busy": "2022-06-15T08:52:50.489557Z",
     "iopub.status.idle": "2022-06-15T08:52:50.500930Z",
     "shell.execute_reply": "2022-06-15T08:52:50.499813Z"
    },
    "papermill": {
     "duration": 0.026373,
     "end_time": "2022-06-15T08:52:50.501966",
     "exception": false,
     "start_time": "2022-06-15T08:52:50.475593",
     "status": "completed"
    },
    "tags": []
   },
   "outputs": [],
   "source": [
    "df = pd.concat([df,y], axis=1)"
   ]
  },
  {
   "cell_type": "markdown",
   "id": "164f8326",
   "metadata": {
    "papermill": {
     "duration": 0.010966,
     "end_time": "2022-06-15T08:52:50.525918",
     "exception": false,
     "start_time": "2022-06-15T08:52:50.514952",
     "status": "completed"
    },
    "tags": []
   },
   "source": [
    "### Salvataggio Pickle"
   ]
  },
  {
   "cell_type": "code",
   "execution_count": 9,
   "id": "1037cf22",
   "metadata": {
    "execution": {
     "iopub.execute_input": "2022-06-15T08:52:50.568667Z",
     "iopub.status.busy": "2022-06-15T08:52:50.567637Z",
     "iopub.status.idle": "2022-06-15T08:52:50.608528Z",
     "shell.execute_reply": "2022-06-15T08:52:50.608528Z"
    },
    "papermill": {
     "duration": 0.058846,
     "end_time": "2022-06-15T08:52:50.614512",
     "exception": false,
     "start_time": "2022-06-15T08:52:50.555666",
     "status": "completed"
    },
    "tags": []
   },
   "outputs": [],
   "source": [
    "save_path = os.getenv('PATH_NAME',\n",
    "        'C:\\\\Users\\\\AndreaNicoletta\\\\Desktop\\\\Elyra\\\\pipelines\\\\titanic\\\\dati\\\\')\n",
    "\n",
    "#salvataggio dict con oggetti fittati\n",
    "with open(save_path+'step_1_dict_out.pickle', 'wb') as handle:\n",
    "    pickle.dump(step_1, handle, protocol=pickle.HIGHEST_PROTOCOL)\n",
    "    \n",
    "#salvataggio dati su cui è stato chiamato il transform\n",
    "with open(save_path+'step_1_dati_out.pickle', 'wb') as handle:\n",
    "    pickle.dump(df, handle, protocol=pickle.HIGHEST_PROTOCOL)"
   ]
  },
  {
   "cell_type": "code",
   "execution_count": null,
   "id": "a0efce61-a541-493a-bf97-3aa20b55c7fd",
   "metadata": {
    "papermill": {
     "duration": 0.012965,
     "end_time": "2022-06-15T08:52:50.649419",
     "exception": false,
     "start_time": "2022-06-15T08:52:50.636454",
     "status": "completed"
    },
    "tags": []
   },
   "outputs": [],
   "source": []
  }
 ],
 "metadata": {
  "kernelspec": {
   "display_name": "Python 3 (ipykernel)",
   "language": "python",
   "name": "python3"
  },
  "language_info": {
   "codemirror_mode": {
    "name": "ipython",
    "version": 3
   },
   "file_extension": ".py",
   "mimetype": "text/x-python",
   "name": "python",
   "nbconvert_exporter": "python",
   "pygments_lexer": "ipython3",
   "version": "3.9.12"
  },
  "papermill": {
   "duration": 6.828754,
   "end_time": "2022-06-15T08:52:51.012868",
   "environment_variables": {},
   "exception": null,
   "input_path": "C:\\Users\\AndreaNicoletta\\Desktop\\Elyra\\pipelines\\titanic\\notebooks\\step_1_imputation.ipynb",
   "output_path": "C:\\Users\\AndreaNicoletta\\Desktop\\Elyra\\pipelines\\titanic\\notebooks\\step_1_imputation.ipynb",
   "parameters": {},
   "start_time": "2022-06-15T08:52:44.184114",
   "version": "2.1.1"
  }
 },
 "nbformat": 4,
 "nbformat_minor": 5
}