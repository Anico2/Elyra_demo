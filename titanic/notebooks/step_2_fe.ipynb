{
 "cells": [
  {
   "cell_type": "code",
   "execution_count": 1,
   "id": "e3e8f56e",
   "metadata": {
    "execution": {
     "iopub.execute_input": "2022-06-15T08:52:54.754969Z",
     "iopub.status.busy": "2022-06-15T08:52:54.754969Z",
     "iopub.status.idle": "2022-06-15T08:52:56.689590Z",
     "shell.execute_reply": "2022-06-15T08:52:56.688588Z"
    },
    "papermill": {
     "duration": 1.952574,
     "end_time": "2022-06-15T08:52:56.691585",
     "exception": false,
     "start_time": "2022-06-15T08:52:54.739011",
     "status": "completed"
    },
    "tags": []
   },
   "outputs": [],
   "source": [
    "import numpy as np\n",
    "import pandas as pd\n",
    "import os\n",
    "import time\n",
    "import sys\n",
    "\n",
    "#bla bla\n",
    "\n",
    "import sklearn\n",
    "import psutil\n",
    "import pickle\n",
    "\n",
    "from sklearn.impute import SimpleImputer\n",
    "from sklearn.compose import ColumnTransformer\n",
    "from sklearn.preprocessing import StandardScaler, OneHotEncoder\n",
    "from copy import deepcopy as dc\n"
   ]
  },
  {
   "cell_type": "markdown",
   "id": "3445993f",
   "metadata": {
    "papermill": {
     "duration": 0.010971,
     "end_time": "2022-06-15T08:52:56.714524",
     "exception": false,
     "start_time": "2022-06-15T08:52:56.703553",
     "status": "completed"
    },
    "tags": []
   },
   "source": [
    "### Dati"
   ]
  },
  {
   "cell_type": "code",
   "execution_count": 2,
   "id": "016f1e08",
   "metadata": {
    "execution": {
     "iopub.execute_input": "2022-06-15T08:52:56.747596Z",
     "iopub.status.busy": "2022-06-15T08:52:56.746598Z",
     "iopub.status.idle": "2022-06-15T08:52:56.783588Z",
     "shell.execute_reply": "2022-06-15T08:52:56.782627Z"
    },
    "papermill": {
     "duration": 0.051949,
     "end_time": "2022-06-15T08:52:56.785581",
     "exception": false,
     "start_time": "2022-06-15T08:52:56.733632",
     "status": "completed"
    },
    "tags": []
   },
   "outputs": [
    {
     "data": {
      "text/html": [
       "<div>\n",
       "<style scoped>\n",
       "    .dataframe tbody tr th:only-of-type {\n",
       "        vertical-align: middle;\n",
       "    }\n",
       "\n",
       "    .dataframe tbody tr th {\n",
       "        vertical-align: top;\n",
       "    }\n",
       "\n",
       "    .dataframe thead th {\n",
       "        text-align: right;\n",
       "    }\n",
       "</style>\n",
       "<table border=\"1\" class=\"dataframe\">\n",
       "  <thead>\n",
       "    <tr style=\"text-align: right;\">\n",
       "      <th></th>\n",
       "      <th>age</th>\n",
       "      <th>fare</th>\n",
       "      <th>embarked</th>\n",
       "      <th>sex</th>\n",
       "      <th>pclass</th>\n",
       "    </tr>\n",
       "  </thead>\n",
       "  <tbody>\n",
       "    <tr>\n",
       "      <th>0</th>\n",
       "      <td>29.0000</td>\n",
       "      <td>211.3375</td>\n",
       "      <td>S</td>\n",
       "      <td>female</td>\n",
       "      <td>1.0</td>\n",
       "    </tr>\n",
       "    <tr>\n",
       "      <th>1</th>\n",
       "      <td>0.9167</td>\n",
       "      <td>151.5500</td>\n",
       "      <td>S</td>\n",
       "      <td>male</td>\n",
       "      <td>1.0</td>\n",
       "    </tr>\n",
       "    <tr>\n",
       "      <th>2</th>\n",
       "      <td>2.0000</td>\n",
       "      <td>151.5500</td>\n",
       "      <td>S</td>\n",
       "      <td>female</td>\n",
       "      <td>1.0</td>\n",
       "    </tr>\n",
       "  </tbody>\n",
       "</table>\n",
       "</div>"
      ],
      "text/plain": [
       "       age      fare embarked     sex  pclass\n",
       "0  29.0000  211.3375        S  female     1.0\n",
       "1   0.9167  151.5500        S    male     1.0\n",
       "2   2.0000  151.5500        S  female     1.0"
      ]
     },
     "execution_count": 2,
     "metadata": {},
     "output_type": "execute_result"
    }
   ],
   "source": [
    "with open('..\\\\dati\\\\step_1_dati_out.pickle', 'rb') as f:\n",
    "    df = pickle.load(file=f)\n",
    "y = df[\"survived\"]\n",
    "df = df.drop(columns = \"survived\")\n",
    "df.head(3)"
   ]
  },
  {
   "cell_type": "code",
   "execution_count": 3,
   "id": "7b942eea-fcee-46fc-b27d-c340c1446f0c",
   "metadata": {
    "execution": {
     "iopub.execute_input": "2022-06-15T08:52:56.812511Z",
     "iopub.status.busy": "2022-06-15T08:52:56.812511Z",
     "iopub.status.idle": "2022-06-15T08:52:56.830083Z",
     "shell.execute_reply": "2022-06-15T08:52:56.829154Z"
    },
    "papermill": {
     "duration": 0.033562,
     "end_time": "2022-06-15T08:52:56.831111",
     "exception": false,
     "start_time": "2022-06-15T08:52:56.797549",
     "status": "completed"
    },
    "tags": []
   },
   "outputs": [],
   "source": [
    "step_2 = {}"
   ]
  },
  {
   "cell_type": "markdown",
   "id": "b2fb7aed",
   "metadata": {
    "papermill": {
     "duration": 0.012008,
     "end_time": "2022-06-15T08:52:56.854057",
     "exception": false,
     "start_time": "2022-06-15T08:52:56.842049",
     "status": "completed"
    },
    "tags": []
   },
   "source": [
    "### Scaler"
   ]
  },
  {
   "cell_type": "code",
   "execution_count": 4,
   "id": "2b3df5c7",
   "metadata": {
    "execution": {
     "iopub.execute_input": "2022-06-15T08:52:56.878952Z",
     "iopub.status.busy": "2022-06-15T08:52:56.878952Z",
     "iopub.status.idle": "2022-06-15T08:52:56.906941Z",
     "shell.execute_reply": "2022-06-15T08:52:56.905937Z"
    },
    "papermill": {
     "duration": 0.042949,
     "end_time": "2022-06-15T08:52:56.908937",
     "exception": false,
     "start_time": "2022-06-15T08:52:56.865988",
     "status": "completed"
    },
    "tags": []
   },
   "outputs": [
    {
     "data": {
      "text/plain": [
       "(1309, 5)"
      ]
     },
     "execution_count": 4,
     "metadata": {},
     "output_type": "execute_result"
    }
   ],
   "source": [
    "numeric_features = [\"age\", \"fare\"]\n",
    "stand_scaler = ColumnTransformer(\n",
    "    transformers=[(\"scaler\", StandardScaler(), numeric_features)])\n",
    "\n",
    "fit_scaler = stand_scaler.fit(df)\n",
    "fitted_scaler = dc(fit_scaler)\n",
    "\n",
    "step_2[\"step_2_scaler_num\"] = {\"obj\":fitted_scaler,\n",
    "                           \"fitted_on\":numeric_features}\n",
    "df.loc[::,numeric_features] = fit_scaler.transform(df)\n",
    "df.shape"
   ]
  },
  {
   "cell_type": "markdown",
   "id": "5d840942",
   "metadata": {
    "papermill": {
     "duration": 0.011999,
     "end_time": "2022-06-15T08:52:56.933984",
     "exception": false,
     "start_time": "2022-06-15T08:52:56.921985",
     "status": "completed"
    },
    "tags": []
   },
   "source": [
    "### OneHotEncoding\n"
   ]
  },
  {
   "cell_type": "code",
   "execution_count": 5,
   "id": "2a6a6bc8",
   "metadata": {
    "execution": {
     "iopub.execute_input": "2022-06-15T08:52:56.962035Z",
     "iopub.status.busy": "2022-06-15T08:52:56.961038Z",
     "iopub.status.idle": "2022-06-15T08:52:56.984791Z",
     "shell.execute_reply": "2022-06-15T08:52:56.983789Z"
    },
    "papermill": {
     "duration": 0.038088,
     "end_time": "2022-06-15T08:52:56.985787",
     "exception": false,
     "start_time": "2022-06-15T08:52:56.947699",
     "status": "completed"
    },
    "tags": []
   },
   "outputs": [
    {
     "data": {
      "text/plain": [
       "(1309, 10)"
      ]
     },
     "execution_count": 5,
     "metadata": {},
     "output_type": "execute_result"
    }
   ],
   "source": [
    "categorical_features = [\"embarked\", \"sex\", \"pclass\"]\n",
    "ohe = ColumnTransformer(\n",
    "    transformers=[(\"ohe\", OneHotEncoder(handle_unknown=\"error\"),categorical_features)])\n",
    "\n",
    "fit_ohe = ohe.fit(df)\n",
    "fitted_ohe = dc(fit_ohe)\n",
    "\n",
    "step_2[\"step_2_ohe\"] = {\"obj\":fitted_ohe,\n",
    "                        \"fitted_on\":categorical_features}\n",
    "df = pd.concat([df, pd.DataFrame(fit_ohe.transform(df), columns = fit_ohe.get_feature_names_out())],axis=1).drop(columns=categorical_features)\n",
    "df.shape"
   ]
  },
  {
   "cell_type": "markdown",
   "id": "255d2125",
   "metadata": {
    "papermill": {
     "duration": 0.012186,
     "end_time": "2022-06-15T08:52:57.010458",
     "exception": false,
     "start_time": "2022-06-15T08:52:56.998272",
     "status": "completed"
    },
    "tags": []
   },
   "source": [
    "### save pickle"
   ]
  },
  {
   "cell_type": "code",
   "execution_count": 6,
   "id": "1634f65f",
   "metadata": {
    "execution": {
     "iopub.execute_input": "2022-06-15T08:52:57.039226Z",
     "iopub.status.busy": "2022-06-15T08:52:57.039226Z",
     "iopub.status.idle": "2022-06-15T08:52:57.077922Z",
     "shell.execute_reply": "2022-06-15T08:52:57.077034Z"
    },
    "papermill": {
     "duration": 0.051505,
     "end_time": "2022-06-15T08:52:57.078924",
     "exception": false,
     "start_time": "2022-06-15T08:52:57.027419",
     "status": "completed"
    },
    "tags": []
   },
   "outputs": [],
   "source": [
    "save_path = os.getenv('PATH_NAME',\n",
    "        'C:\\\\Users\\\\AndreaNicoletta\\\\Desktop\\\\Elyra\\\\pipelines\\\\titanic\\\\dati\\\\')\n",
    "with open(save_path+'step_2_dict_out.pickle', 'wb') as handle:\n",
    "    pickle.dump(step_2, handle, protocol=pickle.HIGHEST_PROTOCOL)\n",
    "df[\"survived\"] = y\n",
    "with open(save_path+'step_2_dati_out.pickle', 'wb') as handle:\n",
    "    pickle.dump(df, handle, protocol=pickle.HIGHEST_PROTOCOL)"
   ]
  }
 ],
 "metadata": {
  "kernelspec": {
   "display_name": "Python 3 (ipykernel)",
   "language": "python",
   "name": "python3"
  },
  "language_info": {
   "codemirror_mode": {
    "name": "ipython",
    "version": 3
   },
   "file_extension": ".py",
   "mimetype": "text/x-python",
   "name": "python",
   "nbconvert_exporter": "python",
   "pygments_lexer": "ipython3",
   "version": "3.9.12"
  },
  "papermill": {
   "duration": 7.144922,
   "end_time": "2022-06-15T08:52:58.199064",
   "environment_variables": {},
   "exception": null,
   "input_path": "C:\\Users\\AndreaNicoletta\\Desktop\\Elyra\\pipelines\\titanic\\notebooks\\step_2_fe.ipynb",
   "output_path": "C:\\Users\\AndreaNicoletta\\Desktop\\Elyra\\pipelines\\titanic\\notebooks\\step_2_fe.ipynb",
   "parameters": {},
   "start_time": "2022-06-15T08:52:51.054142",
   "version": "2.1.1"
  }
 },
 "nbformat": 4,
 "nbformat_minor": 5
}