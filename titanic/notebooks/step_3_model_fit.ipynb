{
 "cells": [
  {
   "cell_type": "code",
   "execution_count": 1,
   "id": "e3e8f56e",
   "metadata": {
    "execution": {
     "iopub.execute_input": "2022-06-15T08:53:01.940352Z",
     "iopub.status.busy": "2022-06-15T08:53:01.940352Z",
     "iopub.status.idle": "2022-06-15T08:53:04.025227Z",
     "shell.execute_reply": "2022-06-15T08:53:04.025227Z"
    },
    "papermill": {
     "duration": 2.099804,
     "end_time": "2022-06-15T08:53:04.027223",
     "exception": false,
     "start_time": "2022-06-15T08:53:01.927419",
     "status": "completed"
    },
    "tags": []
   },
   "outputs": [],
   "source": [
    "import numpy as np\n",
    "import pandas as pd\n",
    "import os\n",
    "import time\n",
    "import sys\n",
    "\n",
    "#bla bla\n",
    "\n",
    "import sklearn\n",
    "import psutil\n",
    "import pickle\n",
    "\n",
    "from sklearn.impute import SimpleImputer\n",
    "from sklearn.compose import ColumnTransformer\n",
    "from sklearn.preprocessing import StandardScaler, OneHotEncoder\n",
    "from copy import deepcopy as dc\n",
    "from sklearn.model_selection import GridSearchCV\n",
    "from sklearn.linear_model import LogisticRegression"
   ]
  },
  {
   "cell_type": "markdown",
   "id": "3445993f",
   "metadata": {
    "papermill": {
     "duration": 0.013963,
     "end_time": "2022-06-15T08:53:04.054150",
     "exception": false,
     "start_time": "2022-06-15T08:53:04.040187",
     "status": "completed"
    },
    "tags": []
   },
   "source": [
    "### Dati"
   ]
  },
  {
   "cell_type": "code",
   "execution_count": 2,
   "id": "016f1e08",
   "metadata": {
    "execution": {
     "iopub.execute_input": "2022-06-15T08:53:04.080081Z",
     "iopub.status.busy": "2022-06-15T08:53:04.079083Z",
     "iopub.status.idle": "2022-06-15T08:53:04.119512Z",
     "shell.execute_reply": "2022-06-15T08:53:04.119512Z"
    },
    "papermill": {
     "duration": 0.05539,
     "end_time": "2022-06-15T08:53:04.121508",
     "exception": false,
     "start_time": "2022-06-15T08:53:04.066118",
     "status": "completed"
    },
    "tags": []
   },
   "outputs": [
    {
     "data": {
      "text/html": [
       "<div>\n",
       "<style scoped>\n",
       "    .dataframe tbody tr th:only-of-type {\n",
       "        vertical-align: middle;\n",
       "    }\n",
       "\n",
       "    .dataframe tbody tr th {\n",
       "        vertical-align: top;\n",
       "    }\n",
       "\n",
       "    .dataframe thead th {\n",
       "        text-align: right;\n",
       "    }\n",
       "</style>\n",
       "<table border=\"1\" class=\"dataframe\">\n",
       "  <thead>\n",
       "    <tr style=\"text-align: right;\">\n",
       "      <th></th>\n",
       "      <th>age</th>\n",
       "      <th>fare</th>\n",
       "      <th>ohe__embarked_C</th>\n",
       "      <th>ohe__embarked_Q</th>\n",
       "      <th>ohe__embarked_S</th>\n",
       "      <th>ohe__sex_female</th>\n",
       "      <th>ohe__sex_male</th>\n",
       "      <th>ohe__pclass_1.0</th>\n",
       "      <th>ohe__pclass_2.0</th>\n",
       "      <th>ohe__pclass_3.0</th>\n",
       "    </tr>\n",
       "  </thead>\n",
       "  <tbody>\n",
       "    <tr>\n",
       "      <th>0</th>\n",
       "      <td>-0.039005</td>\n",
       "      <td>3.442584</td>\n",
       "      <td>0.0</td>\n",
       "      <td>0.0</td>\n",
       "      <td>1.0</td>\n",
       "      <td>1.0</td>\n",
       "      <td>0.0</td>\n",
       "      <td>1.0</td>\n",
       "      <td>0.0</td>\n",
       "      <td>0.0</td>\n",
       "    </tr>\n",
       "    <tr>\n",
       "      <th>1</th>\n",
       "      <td>-2.215952</td>\n",
       "      <td>2.286639</td>\n",
       "      <td>0.0</td>\n",
       "      <td>0.0</td>\n",
       "      <td>1.0</td>\n",
       "      <td>0.0</td>\n",
       "      <td>1.0</td>\n",
       "      <td>1.0</td>\n",
       "      <td>0.0</td>\n",
       "      <td>0.0</td>\n",
       "    </tr>\n",
       "    <tr>\n",
       "      <th>2</th>\n",
       "      <td>-2.131977</td>\n",
       "      <td>2.286639</td>\n",
       "      <td>0.0</td>\n",
       "      <td>0.0</td>\n",
       "      <td>1.0</td>\n",
       "      <td>1.0</td>\n",
       "      <td>0.0</td>\n",
       "      <td>1.0</td>\n",
       "      <td>0.0</td>\n",
       "      <td>0.0</td>\n",
       "    </tr>\n",
       "  </tbody>\n",
       "</table>\n",
       "</div>"
      ],
      "text/plain": [
       "        age      fare  ohe__embarked_C  ohe__embarked_Q  ohe__embarked_S  \\\n",
       "0 -0.039005  3.442584              0.0              0.0              1.0   \n",
       "1 -2.215952  2.286639              0.0              0.0              1.0   \n",
       "2 -2.131977  2.286639              0.0              0.0              1.0   \n",
       "\n",
       "   ohe__sex_female  ohe__sex_male  ohe__pclass_1.0  ohe__pclass_2.0  \\\n",
       "0              1.0            0.0              1.0              0.0   \n",
       "1              0.0            1.0              1.0              0.0   \n",
       "2              1.0            0.0              1.0              0.0   \n",
       "\n",
       "   ohe__pclass_3.0  \n",
       "0              0.0  \n",
       "1              0.0  \n",
       "2              0.0  "
      ]
     },
     "execution_count": 2,
     "metadata": {},
     "output_type": "execute_result"
    }
   ],
   "source": [
    "with open('..\\\\dati\\\\step_2_dati_out.pickle', 'rb') as f:\n",
    "    df = pickle.load(file=f)\n",
    "y = df[\"survived\"]\n",
    "df = df.drop(columns = \"survived\")\n",
    "df.head(3)"
   ]
  },
  {
   "cell_type": "code",
   "execution_count": 3,
   "id": "c2307f4a-8680-459c-82b2-ed3fa7623c25",
   "metadata": {
    "execution": {
     "iopub.execute_input": "2022-06-15T08:53:04.147438Z",
     "iopub.status.busy": "2022-06-15T08:53:04.146441Z",
     "iopub.status.idle": "2022-06-15T08:53:04.152425Z",
     "shell.execute_reply": "2022-06-15T08:53:04.151427Z"
    },
    "papermill": {
     "duration": 0.020945,
     "end_time": "2022-06-15T08:53:04.154420",
     "exception": false,
     "start_time": "2022-06-15T08:53:04.133475",
     "status": "completed"
    },
    "tags": []
   },
   "outputs": [],
   "source": [
    "step_3={}"
   ]
  },
  {
   "cell_type": "markdown",
   "id": "b2fb7aed",
   "metadata": {
    "papermill": {
     "duration": 0.011969,
     "end_time": "2022-06-15T08:53:04.180351",
     "exception": false,
     "start_time": "2022-06-15T08:53:04.168382",
     "status": "completed"
    },
    "tags": []
   },
   "source": [
    "### Model fit"
   ]
  },
  {
   "cell_type": "code",
   "execution_count": 4,
   "id": "0aebeac6-c68d-4545-82e7-408de7836d7e",
   "metadata": {
    "execution": {
     "iopub.execute_input": "2022-06-15T08:53:04.206281Z",
     "iopub.status.busy": "2022-06-15T08:53:04.206281Z",
     "iopub.status.idle": "2022-06-15T08:53:04.642672Z",
     "shell.execute_reply": "2022-06-15T08:53:04.641706Z"
    },
    "papermill": {
     "duration": 0.454346,
     "end_time": "2022-06-15T08:53:04.645666",
     "exception": false,
     "start_time": "2022-06-15T08:53:04.191320",
     "status": "completed"
    },
    "tags": []
   },
   "outputs": [
    {
     "data": {
      "text/plain": [
       "GridSearchCV(cv=5, estimator=LogisticRegression(),\n",
       "             param_grid={'C': [0.1, 1.0, 10, 100]})"
      ]
     },
     "execution_count": 4,
     "metadata": {},
     "output_type": "execute_result"
    }
   ],
   "source": [
    "clf = LogisticRegression()\n",
    "param_grid = {\"C\": [0.1, 1.0, 10, 100]}\n",
    "\n",
    "grid_search = GridSearchCV(clf, param_grid, cv=5)\n",
    "grid_search.fit(df, y)"
   ]
  },
  {
   "cell_type": "code",
   "execution_count": 5,
   "id": "1229a8a5-5863-4583-9a0d-c2160d0a8d0d",
   "metadata": {
    "execution": {
     "iopub.execute_input": "2022-06-15T08:53:04.673629Z",
     "iopub.status.busy": "2022-06-15T08:53:04.673629Z",
     "iopub.status.idle": "2022-06-15T08:53:04.688548Z",
     "shell.execute_reply": "2022-06-15T08:53:04.688548Z"
    },
    "papermill": {
     "duration": 0.030885,
     "end_time": "2022-06-15T08:53:04.690546",
     "exception": false,
     "start_time": "2022-06-15T08:53:04.659661",
     "status": "completed"
    },
    "tags": []
   },
   "outputs": [
    {
     "data": {
      "text/plain": [
       "0.7830404889228418"
      ]
     },
     "execution_count": 5,
     "metadata": {},
     "output_type": "execute_result"
    }
   ],
   "source": [
    "grid_search.score(df,y)"
   ]
  },
  {
   "cell_type": "code",
   "execution_count": 6,
   "id": "7d9ebc97-72ad-4ea4-a304-316257a8280d",
   "metadata": {
    "execution": {
     "iopub.execute_input": "2022-06-15T08:53:04.715477Z",
     "iopub.status.busy": "2022-06-15T08:53:04.715477Z",
     "iopub.status.idle": "2022-06-15T08:53:04.721462Z",
     "shell.execute_reply": "2022-06-15T08:53:04.721462Z"
    },
    "papermill": {
     "duration": 0.021943,
     "end_time": "2022-06-15T08:53:04.723457",
     "exception": false,
     "start_time": "2022-06-15T08:53:04.701514",
     "status": "completed"
    },
    "tags": []
   },
   "outputs": [],
   "source": [
    "step_3[\"step_3_model\"] = grid_search.best_estimator_"
   ]
  },
  {
   "cell_type": "markdown",
   "id": "255d2125",
   "metadata": {
    "papermill": {
     "duration": 0.012968,
     "end_time": "2022-06-15T08:53:04.747394",
     "exception": false,
     "start_time": "2022-06-15T08:53:04.734426",
     "status": "completed"
    },
    "tags": []
   },
   "source": [
    "### save pickle"
   ]
  },
  {
   "cell_type": "code",
   "execution_count": 7,
   "id": "1634f65f",
   "metadata": {
    "execution": {
     "iopub.execute_input": "2022-06-15T08:53:04.777311Z",
     "iopub.status.busy": "2022-06-15T08:53:04.777311Z",
     "iopub.status.idle": "2022-06-15T08:53:04.798255Z",
     "shell.execute_reply": "2022-06-15T08:53:04.798255Z"
    },
    "papermill": {
     "duration": 0.0379,
     "end_time": "2022-06-15T08:53:04.800252",
     "exception": false,
     "start_time": "2022-06-15T08:53:04.762352",
     "status": "completed"
    },
    "tags": []
   },
   "outputs": [],
   "source": [
    "save_path = os.getenv('PATH_NAME',\n",
    "        'C:\\\\Users\\\\AndreaNicoletta\\\\Desktop\\\\Elyra\\\\pipelines\\\\titanic\\\\dati\\\\')\n",
    "with open(save_path+'step_3_dict_out.pickle', 'wb') as handle:\n",
    "    pickle.dump(step_3, handle, protocol=pickle.HIGHEST_PROTOCOL)"
   ]
  },
  {
   "cell_type": "code",
   "execution_count": null,
   "id": "0b6a1501-9da1-4905-bb22-ba367462ebea",
   "metadata": {
    "papermill": {
     "duration": 0.010971,
     "end_time": "2022-06-15T08:53:04.822192",
     "exception": false,
     "start_time": "2022-06-15T08:53:04.811221",
     "status": "completed"
    },
    "tags": []
   },
   "outputs": [],
   "source": []
  }
 ],
 "metadata": {
  "kernelspec": {
   "display_name": "Python 3 (ipykernel)",
   "language": "python",
   "name": "python3"
  },
  "language_info": {
   "codemirror_mode": {
    "name": "ipython",
    "version": 3
   },
   "file_extension": ".py",
   "mimetype": "text/x-python",
   "name": "python",
   "nbconvert_exporter": "python",
   "pygments_lexer": "ipython3",
   "version": "3.9.12"
  },
  "papermill": {
   "duration": 6.853765,
   "end_time": "2022-06-15T08:53:05.187881",
   "environment_variables": {},
   "exception": null,
   "input_path": "C:\\Users\\AndreaNicoletta\\Desktop\\Elyra\\pipelines\\titanic\\notebooks\\step_3_model_fit.ipynb",
   "output_path": "C:\\Users\\AndreaNicoletta\\Desktop\\Elyra\\pipelines\\titanic\\notebooks\\step_3_model_fit.ipynb",
   "parameters": {},
   "start_time": "2022-06-15T08:52:58.334116",
   "version": "2.1.1"
  }
 },
 "nbformat": 4,
 "nbformat_minor": 5
}